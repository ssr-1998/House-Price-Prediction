{
 "cells": [
  {
   "cell_type": "markdown",
   "metadata": {},
   "source": [
    "# <u>Advance House Price Prediction Model</u>\n",
    "**<u>Data Source -<u>** https://www.kaggle.com/c/house-prices-advanced-regression-techniques/data<br>"
   ]
  },
  {
   "cell_type": "markdown",
   "metadata": {},
   "source": [
    "## Importing Libraries"
   ]
  },
  {
   "cell_type": "code",
   "execution_count": 2,
   "metadata": {},
   "outputs": [],
   "source": [
    "import numpy as np\n",
    "import pandas as pd\n",
    "import matplotlib.pyplot as plt\n",
    "import seaborn as sns\n",
    "from matplotlib.pyplot import rcParams\n",
    "from prettytable import PrettyTable\n",
    "\n",
    "%matplotlib inline\n",
    "rcParams[\"figure.figsize\"] = 6,6\n",
    "pd.pandas.set_option(\"display.max_columns\", None)"
   ]
  },
  {
   "cell_type": "markdown",
   "metadata": {},
   "source": [
    "## Loading Datasets\n",
    "In this project there were mainly three CSV files [train.csv, test.csv, sample_submission.csv]. I did this project in several phases. First ...."
   ]
  },
  {
   "cell_type": "code",
   "execution_count": 3,
   "metadata": {},
   "outputs": [
    {
     "name": "stdout",
     "output_type": "stream",
     "text": [
      "Rows :- 1460 & Columns :- 21\n"
     ]
    },
    {
     "data": {
      "text/html": [
       "<div>\n",
       "<style scoped>\n",
       "    .dataframe tbody tr th:only-of-type {\n",
       "        vertical-align: middle;\n",
       "    }\n",
       "\n",
       "    .dataframe tbody tr th {\n",
       "        vertical-align: top;\n",
       "    }\n",
       "\n",
       "    .dataframe thead th {\n",
       "        text-align: right;\n",
       "    }\n",
       "</style>\n",
       "<table border=\"1\" class=\"dataframe\">\n",
       "  <thead>\n",
       "    <tr style=\"text-align: right;\">\n",
       "      <th></th>\n",
       "      <th>MSSubClass</th>\n",
       "      <th>MSZoning</th>\n",
       "      <th>Neighborhood</th>\n",
       "      <th>OverallQual</th>\n",
       "      <th>YearRemodAdd</th>\n",
       "      <th>RoofStyle</th>\n",
       "      <th>BsmtQual</th>\n",
       "      <th>BsmtExposure</th>\n",
       "      <th>HeatingQC</th>\n",
       "      <th>CentralAir</th>\n",
       "      <th>1stFlrSF</th>\n",
       "      <th>GrLivArea</th>\n",
       "      <th>BsmtFullBath</th>\n",
       "      <th>KitchenQual</th>\n",
       "      <th>Fireplaces</th>\n",
       "      <th>FireplaceQu</th>\n",
       "      <th>GarageType</th>\n",
       "      <th>GarageFinish</th>\n",
       "      <th>GarageCars</th>\n",
       "      <th>PavedDrive</th>\n",
       "      <th>SaleCondition</th>\n",
       "    </tr>\n",
       "  </thead>\n",
       "  <tbody>\n",
       "    <tr>\n",
       "      <th>0</th>\n",
       "      <td>0.235294</td>\n",
       "      <td>0.75</td>\n",
       "      <td>0.636364</td>\n",
       "      <td>0.666667</td>\n",
       "      <td>0.098361</td>\n",
       "      <td>0.0</td>\n",
       "      <td>0.75</td>\n",
       "      <td>0.25</td>\n",
       "      <td>1.00</td>\n",
       "      <td>1.0</td>\n",
       "      <td>0.356155</td>\n",
       "      <td>0.577712</td>\n",
       "      <td>0.333333</td>\n",
       "      <td>0.666667</td>\n",
       "      <td>0.000000</td>\n",
       "      <td>0.2</td>\n",
       "      <td>0.8</td>\n",
       "      <td>0.666667</td>\n",
       "      <td>0.50</td>\n",
       "      <td>1.0</td>\n",
       "      <td>0.75</td>\n",
       "    </tr>\n",
       "    <tr>\n",
       "      <th>1</th>\n",
       "      <td>0.000000</td>\n",
       "      <td>0.75</td>\n",
       "      <td>0.500000</td>\n",
       "      <td>0.555556</td>\n",
       "      <td>0.524590</td>\n",
       "      <td>0.0</td>\n",
       "      <td>0.75</td>\n",
       "      <td>1.00</td>\n",
       "      <td>1.00</td>\n",
       "      <td>1.0</td>\n",
       "      <td>0.503056</td>\n",
       "      <td>0.470245</td>\n",
       "      <td>0.000000</td>\n",
       "      <td>0.333333</td>\n",
       "      <td>0.333333</td>\n",
       "      <td>0.6</td>\n",
       "      <td>0.8</td>\n",
       "      <td>0.666667</td>\n",
       "      <td>0.50</td>\n",
       "      <td>1.0</td>\n",
       "      <td>0.75</td>\n",
       "    </tr>\n",
       "    <tr>\n",
       "      <th>2</th>\n",
       "      <td>0.235294</td>\n",
       "      <td>0.75</td>\n",
       "      <td>0.636364</td>\n",
       "      <td>0.666667</td>\n",
       "      <td>0.114754</td>\n",
       "      <td>0.0</td>\n",
       "      <td>0.75</td>\n",
       "      <td>0.50</td>\n",
       "      <td>1.00</td>\n",
       "      <td>1.0</td>\n",
       "      <td>0.383441</td>\n",
       "      <td>0.593095</td>\n",
       "      <td>0.333333</td>\n",
       "      <td>0.666667</td>\n",
       "      <td>0.333333</td>\n",
       "      <td>0.6</td>\n",
       "      <td>0.8</td>\n",
       "      <td>0.666667</td>\n",
       "      <td>0.50</td>\n",
       "      <td>1.0</td>\n",
       "      <td>0.75</td>\n",
       "    </tr>\n",
       "    <tr>\n",
       "      <th>3</th>\n",
       "      <td>0.294118</td>\n",
       "      <td>0.75</td>\n",
       "      <td>0.727273</td>\n",
       "      <td>0.666667</td>\n",
       "      <td>0.606557</td>\n",
       "      <td>0.0</td>\n",
       "      <td>0.50</td>\n",
       "      <td>0.25</td>\n",
       "      <td>0.75</td>\n",
       "      <td>1.0</td>\n",
       "      <td>0.399941</td>\n",
       "      <td>0.579157</td>\n",
       "      <td>0.333333</td>\n",
       "      <td>0.666667</td>\n",
       "      <td>0.333333</td>\n",
       "      <td>0.8</td>\n",
       "      <td>0.4</td>\n",
       "      <td>0.333333</td>\n",
       "      <td>0.75</td>\n",
       "      <td>1.0</td>\n",
       "      <td>0.00</td>\n",
       "    </tr>\n",
       "    <tr>\n",
       "      <th>4</th>\n",
       "      <td>0.235294</td>\n",
       "      <td>0.75</td>\n",
       "      <td>1.000000</td>\n",
       "      <td>0.777778</td>\n",
       "      <td>0.147541</td>\n",
       "      <td>0.0</td>\n",
       "      <td>0.75</td>\n",
       "      <td>0.75</td>\n",
       "      <td>1.00</td>\n",
       "      <td>1.0</td>\n",
       "      <td>0.466237</td>\n",
       "      <td>0.666523</td>\n",
       "      <td>0.333333</td>\n",
       "      <td>0.666667</td>\n",
       "      <td>0.333333</td>\n",
       "      <td>0.6</td>\n",
       "      <td>0.8</td>\n",
       "      <td>0.666667</td>\n",
       "      <td>0.75</td>\n",
       "      <td>1.0</td>\n",
       "      <td>0.75</td>\n",
       "    </tr>\n",
       "  </tbody>\n",
       "</table>\n",
       "</div>"
      ],
      "text/plain": [
       "   MSSubClass  MSZoning  Neighborhood  OverallQual  YearRemodAdd  RoofStyle  \\\n",
       "0    0.235294      0.75      0.636364     0.666667      0.098361        0.0   \n",
       "1    0.000000      0.75      0.500000     0.555556      0.524590        0.0   \n",
       "2    0.235294      0.75      0.636364     0.666667      0.114754        0.0   \n",
       "3    0.294118      0.75      0.727273     0.666667      0.606557        0.0   \n",
       "4    0.235294      0.75      1.000000     0.777778      0.147541        0.0   \n",
       "\n",
       "   BsmtQual  BsmtExposure  HeatingQC  CentralAir  1stFlrSF  GrLivArea  \\\n",
       "0      0.75          0.25       1.00         1.0  0.356155   0.577712   \n",
       "1      0.75          1.00       1.00         1.0  0.503056   0.470245   \n",
       "2      0.75          0.50       1.00         1.0  0.383441   0.593095   \n",
       "3      0.50          0.25       0.75         1.0  0.399941   0.579157   \n",
       "4      0.75          0.75       1.00         1.0  0.466237   0.666523   \n",
       "\n",
       "   BsmtFullBath  KitchenQual  Fireplaces  FireplaceQu  GarageType  \\\n",
       "0      0.333333     0.666667    0.000000          0.2         0.8   \n",
       "1      0.000000     0.333333    0.333333          0.6         0.8   \n",
       "2      0.333333     0.666667    0.333333          0.6         0.8   \n",
       "3      0.333333     0.666667    0.333333          0.8         0.4   \n",
       "4      0.333333     0.666667    0.333333          0.6         0.8   \n",
       "\n",
       "   GarageFinish  GarageCars  PavedDrive  SaleCondition  \n",
       "0      0.666667        0.50         1.0           0.75  \n",
       "1      0.666667        0.50         1.0           0.75  \n",
       "2      0.666667        0.50         1.0           0.75  \n",
       "3      0.333333        0.75         1.0           0.00  \n",
       "4      0.666667        0.75         1.0           0.75  "
      ]
     },
     "execution_count": 3,
     "metadata": {},
     "output_type": "execute_result"
    }
   ],
   "source": [
    "X_train = pd.read_csv(\"Final_X_train.csv\")\n",
    "print(\"Rows :- {} & Columns :- {}\".format(X_train.shape[0], X_train.shape[1]))\n",
    "X_train.head()"
   ]
  },
  {
   "cell_type": "code",
   "execution_count": 4,
   "metadata": {},
   "outputs": [
    {
     "name": "stdout",
     "output_type": "stream",
     "text": [
      "Rows :- 1460\n"
     ]
    },
    {
     "data": {
      "text/html": [
       "<div>\n",
       "<style scoped>\n",
       "    .dataframe tbody tr th:only-of-type {\n",
       "        vertical-align: middle;\n",
       "    }\n",
       "\n",
       "    .dataframe tbody tr th {\n",
       "        vertical-align: top;\n",
       "    }\n",
       "\n",
       "    .dataframe thead th {\n",
       "        text-align: right;\n",
       "    }\n",
       "</style>\n",
       "<table border=\"1\" class=\"dataframe\">\n",
       "  <thead>\n",
       "    <tr style=\"text-align: right;\">\n",
       "      <th></th>\n",
       "      <th>SalePrice</th>\n",
       "    </tr>\n",
       "  </thead>\n",
       "  <tbody>\n",
       "    <tr>\n",
       "      <th>0</th>\n",
       "      <td>12.247694</td>\n",
       "    </tr>\n",
       "    <tr>\n",
       "      <th>1</th>\n",
       "      <td>12.109011</td>\n",
       "    </tr>\n",
       "    <tr>\n",
       "      <th>2</th>\n",
       "      <td>12.317167</td>\n",
       "    </tr>\n",
       "    <tr>\n",
       "      <th>3</th>\n",
       "      <td>11.849398</td>\n",
       "    </tr>\n",
       "    <tr>\n",
       "      <th>4</th>\n",
       "      <td>12.429216</td>\n",
       "    </tr>\n",
       "  </tbody>\n",
       "</table>\n",
       "</div>"
      ],
      "text/plain": [
       "   SalePrice\n",
       "0  12.247694\n",
       "1  12.109011\n",
       "2  12.317167\n",
       "3  11.849398\n",
       "4  12.429216"
      ]
     },
     "execution_count": 4,
     "metadata": {},
     "output_type": "execute_result"
    }
   ],
   "source": [
    "y_train = pd.read_csv(\"Final_y_train.csv\")\n",
    "print(\"Rows :- {}\".format(y_train.shape[0]))\n",
    "y_train.head()"
   ]
  },
  {
   "cell_type": "code",
   "execution_count": 5,
   "metadata": {},
   "outputs": [
    {
     "name": "stdout",
     "output_type": "stream",
     "text": [
      "Rows :- 1459 & Columns :- 21\n"
     ]
    },
    {
     "data": {
      "text/html": [
       "<div>\n",
       "<style scoped>\n",
       "    .dataframe tbody tr th:only-of-type {\n",
       "        vertical-align: middle;\n",
       "    }\n",
       "\n",
       "    .dataframe tbody tr th {\n",
       "        vertical-align: top;\n",
       "    }\n",
       "\n",
       "    .dataframe thead th {\n",
       "        text-align: right;\n",
       "    }\n",
       "</style>\n",
       "<table border=\"1\" class=\"dataframe\">\n",
       "  <thead>\n",
       "    <tr style=\"text-align: right;\">\n",
       "      <th></th>\n",
       "      <th>MSSubClass</th>\n",
       "      <th>MSZoning</th>\n",
       "      <th>Neighborhood</th>\n",
       "      <th>OverallQual</th>\n",
       "      <th>YearRemodAdd</th>\n",
       "      <th>RoofStyle</th>\n",
       "      <th>BsmtQual</th>\n",
       "      <th>BsmtExposure</th>\n",
       "      <th>HeatingQC</th>\n",
       "      <th>CentralAir</th>\n",
       "      <th>1stFlrSF</th>\n",
       "      <th>GrLivArea</th>\n",
       "      <th>BsmtFullBath</th>\n",
       "      <th>KitchenQual</th>\n",
       "      <th>Fireplaces</th>\n",
       "      <th>FireplaceQu</th>\n",
       "      <th>GarageType</th>\n",
       "      <th>GarageFinish</th>\n",
       "      <th>GarageCars</th>\n",
       "      <th>PavedDrive</th>\n",
       "      <th>SaleCondition</th>\n",
       "    </tr>\n",
       "  </thead>\n",
       "  <tbody>\n",
       "    <tr>\n",
       "      <th>0</th>\n",
       "      <td>0.000000</td>\n",
       "      <td>0.75</td>\n",
       "      <td>0.40</td>\n",
       "      <td>0.444444</td>\n",
       "      <td>0.822581</td>\n",
       "      <td>0.0</td>\n",
       "      <td>0.50</td>\n",
       "      <td>0.25</td>\n",
       "      <td>0.25</td>\n",
       "      <td>1.0</td>\n",
       "      <td>0.312253</td>\n",
       "      <td>0.312253</td>\n",
       "      <td>0.0</td>\n",
       "      <td>0.75</td>\n",
       "      <td>0.00</td>\n",
       "      <td>0.2</td>\n",
       "      <td>0.666667</td>\n",
       "      <td>0.333333</td>\n",
       "      <td>0.2</td>\n",
       "      <td>1.0</td>\n",
       "      <td>0.0</td>\n",
       "    </tr>\n",
       "    <tr>\n",
       "      <th>1</th>\n",
       "      <td>0.000000</td>\n",
       "      <td>1.00</td>\n",
       "      <td>0.40</td>\n",
       "      <td>0.555556</td>\n",
       "      <td>0.870968</td>\n",
       "      <td>1.0</td>\n",
       "      <td>0.50</td>\n",
       "      <td>0.25</td>\n",
       "      <td>0.25</td>\n",
       "      <td>1.0</td>\n",
       "      <td>0.468253</td>\n",
       "      <td>0.468253</td>\n",
       "      <td>0.0</td>\n",
       "      <td>0.50</td>\n",
       "      <td>0.00</td>\n",
       "      <td>0.2</td>\n",
       "      <td>0.666667</td>\n",
       "      <td>0.333333</td>\n",
       "      <td>0.2</td>\n",
       "      <td>1.0</td>\n",
       "      <td>0.0</td>\n",
       "    </tr>\n",
       "    <tr>\n",
       "      <th>2</th>\n",
       "      <td>0.235294</td>\n",
       "      <td>1.00</td>\n",
       "      <td>0.90</td>\n",
       "      <td>0.444444</td>\n",
       "      <td>0.225806</td>\n",
       "      <td>0.0</td>\n",
       "      <td>0.25</td>\n",
       "      <td>0.25</td>\n",
       "      <td>0.00</td>\n",
       "      <td>1.0</td>\n",
       "      <td>0.326139</td>\n",
       "      <td>0.548792</td>\n",
       "      <td>0.0</td>\n",
       "      <td>0.75</td>\n",
       "      <td>0.25</td>\n",
       "      <td>0.8</td>\n",
       "      <td>0.666667</td>\n",
       "      <td>1.000000</td>\n",
       "      <td>0.4</td>\n",
       "      <td>1.0</td>\n",
       "      <td>0.0</td>\n",
       "    </tr>\n",
       "    <tr>\n",
       "      <th>3</th>\n",
       "      <td>0.235294</td>\n",
       "      <td>1.00</td>\n",
       "      <td>0.90</td>\n",
       "      <td>0.555556</td>\n",
       "      <td>0.225806</td>\n",
       "      <td>0.0</td>\n",
       "      <td>0.50</td>\n",
       "      <td>0.25</td>\n",
       "      <td>0.50</td>\n",
       "      <td>1.0</td>\n",
       "      <td>0.325285</td>\n",
       "      <td>0.542672</td>\n",
       "      <td>0.0</td>\n",
       "      <td>0.50</td>\n",
       "      <td>0.25</td>\n",
       "      <td>0.6</td>\n",
       "      <td>0.666667</td>\n",
       "      <td>1.000000</td>\n",
       "      <td>0.4</td>\n",
       "      <td>1.0</td>\n",
       "      <td>0.0</td>\n",
       "    </tr>\n",
       "    <tr>\n",
       "      <th>4</th>\n",
       "      <td>0.588235</td>\n",
       "      <td>1.00</td>\n",
       "      <td>0.45</td>\n",
       "      <td>0.777778</td>\n",
       "      <td>0.322581</td>\n",
       "      <td>0.0</td>\n",
       "      <td>0.25</td>\n",
       "      <td>0.25</td>\n",
       "      <td>0.50</td>\n",
       "      <td>1.0</td>\n",
       "      <td>0.453388</td>\n",
       "      <td>0.453388</td>\n",
       "      <td>0.0</td>\n",
       "      <td>0.50</td>\n",
       "      <td>0.00</td>\n",
       "      <td>0.2</td>\n",
       "      <td>0.666667</td>\n",
       "      <td>0.666667</td>\n",
       "      <td>0.4</td>\n",
       "      <td>1.0</td>\n",
       "      <td>0.0</td>\n",
       "    </tr>\n",
       "  </tbody>\n",
       "</table>\n",
       "</div>"
      ],
      "text/plain": [
       "   MSSubClass  MSZoning  Neighborhood  OverallQual  YearRemodAdd  RoofStyle  \\\n",
       "0    0.000000      0.75          0.40     0.444444      0.822581        0.0   \n",
       "1    0.000000      1.00          0.40     0.555556      0.870968        1.0   \n",
       "2    0.235294      1.00          0.90     0.444444      0.225806        0.0   \n",
       "3    0.235294      1.00          0.90     0.555556      0.225806        0.0   \n",
       "4    0.588235      1.00          0.45     0.777778      0.322581        0.0   \n",
       "\n",
       "   BsmtQual  BsmtExposure  HeatingQC  CentralAir  1stFlrSF  GrLivArea  \\\n",
       "0      0.50          0.25       0.25         1.0  0.312253   0.312253   \n",
       "1      0.50          0.25       0.25         1.0  0.468253   0.468253   \n",
       "2      0.25          0.25       0.00         1.0  0.326139   0.548792   \n",
       "3      0.50          0.25       0.50         1.0  0.325285   0.542672   \n",
       "4      0.25          0.25       0.50         1.0  0.453388   0.453388   \n",
       "\n",
       "   BsmtFullBath  KitchenQual  Fireplaces  FireplaceQu  GarageType  \\\n",
       "0           0.0         0.75        0.00          0.2    0.666667   \n",
       "1           0.0         0.50        0.00          0.2    0.666667   \n",
       "2           0.0         0.75        0.25          0.8    0.666667   \n",
       "3           0.0         0.50        0.25          0.6    0.666667   \n",
       "4           0.0         0.50        0.00          0.2    0.666667   \n",
       "\n",
       "   GarageFinish  GarageCars  PavedDrive  SaleCondition  \n",
       "0      0.333333         0.2         1.0            0.0  \n",
       "1      0.333333         0.2         1.0            0.0  \n",
       "2      1.000000         0.4         1.0            0.0  \n",
       "3      1.000000         0.4         1.0            0.0  \n",
       "4      0.666667         0.4         1.0            0.0  "
      ]
     },
     "execution_count": 5,
     "metadata": {},
     "output_type": "execute_result"
    }
   ],
   "source": [
    "X_test = pd.read_csv(\"Final_X_test.csv\")\n",
    "print(\"Rows :- {} & Columns :- {}\".format(X_test.shape[0], X_test.shape[1]))\n",
    "X_test.head()"
   ]
  },
  {
   "cell_type": "code",
   "execution_count": 6,
   "metadata": {},
   "outputs": [
    {
     "name": "stdout",
     "output_type": "stream",
     "text": [
      "Rows :- 1459\n"
     ]
    },
    {
     "data": {
      "text/html": [
       "<div>\n",
       "<style scoped>\n",
       "    .dataframe tbody tr th:only-of-type {\n",
       "        vertical-align: middle;\n",
       "    }\n",
       "\n",
       "    .dataframe tbody tr th {\n",
       "        vertical-align: top;\n",
       "    }\n",
       "\n",
       "    .dataframe thead th {\n",
       "        text-align: right;\n",
       "    }\n",
       "</style>\n",
       "<table border=\"1\" class=\"dataframe\">\n",
       "  <thead>\n",
       "    <tr style=\"text-align: right;\">\n",
       "      <th></th>\n",
       "      <th>SalePrice</th>\n",
       "    </tr>\n",
       "  </thead>\n",
       "  <tbody>\n",
       "    <tr>\n",
       "      <th>0</th>\n",
       "      <td>12.039292</td>\n",
       "    </tr>\n",
       "    <tr>\n",
       "      <th>1</th>\n",
       "      <td>12.142911</td>\n",
       "    </tr>\n",
       "    <tr>\n",
       "      <th>2</th>\n",
       "      <td>12.120426</td>\n",
       "    </tr>\n",
       "    <tr>\n",
       "      <th>3</th>\n",
       "      <td>12.096913</td>\n",
       "    </tr>\n",
       "    <tr>\n",
       "      <th>4</th>\n",
       "      <td>11.923246</td>\n",
       "    </tr>\n",
       "  </tbody>\n",
       "</table>\n",
       "</div>"
      ],
      "text/plain": [
       "   SalePrice\n",
       "0  12.039292\n",
       "1  12.142911\n",
       "2  12.120426\n",
       "3  12.096913\n",
       "4  11.923246"
      ]
     },
     "execution_count": 6,
     "metadata": {},
     "output_type": "execute_result"
    }
   ],
   "source": [
    "y_test = pd.read_csv(\"Final_y_test.csv\")\n",
    "print(\"Rows :- {}\".format(y_test.shape[0]))\n",
    "y_test.head()"
   ]
  },
  {
   "cell_type": "markdown",
   "metadata": {},
   "source": [
    "## Model Building"
   ]
  },
  {
   "cell_type": "code",
   "execution_count": 7,
   "metadata": {},
   "outputs": [],
   "source": [
    "from sklearn.linear_model import LinearRegression, SGDRegressor, Lasso, Ridge, LogisticRegression\n",
    "from sklearn.ensemble import RandomForestRegressor, GradientBoostingRegressor, ExtraTreesRegressor, VotingRegressor\n",
    "from sklearn.model_selection import GridSearchCV\n",
    "import xgboost\n",
    "from sklearn.model_selection import cross_val_score, cross_validate\n",
    "from sklearn.metrics import mean_absolute_error, mean_squared_error\n",
    "import math"
   ]
  },
  {
   "cell_type": "markdown",
   "metadata": {},
   "source": [
    "> To check whether a model is Overfitting or not I will be predicting output from train data on each algorithm with its default params."
   ]
  },
  {
   "cell_type": "code",
   "execution_count": 8,
   "metadata": {},
   "outputs": [],
   "source": [
    "# R2 & Adj. R2 formullas :-\n",
    "#     r2 = r2_score(y_test, y_pred)\n",
    "#     n = len(X_test)\n",
    "#     r2_adj = 1 - (1 - r2) * (n - 1) / (n - (k - 1))  # k means the number of features\n",
    "\n",
    "def train_predict_accuracy(estimator, X_train, y_train, X_test, y_test, want_fit = \"No\"):\n",
    "    if want_fit == \"Yes\":\n",
    "        clf = estimator.fit(X_train, y_train)\n",
    "        y_pred = clf.predict(X_test)\n",
    "\n",
    "        rmse = math.sqrt(mean_squared_error(y_test, y_pred))\n",
    "        mae = mean_absolute_error(y_test, y_pred)\n",
    "\n",
    "        print(\"RMSE :-\", rmse)\n",
    "        print(\"MAE :-\", mae)\n",
    "        return rmse, mae, clf\n",
    "\n",
    "    if want_fit == \"No\":\n",
    "        estimator.fit(X_train, y_train)\n",
    "        y_pred = estimator.predict(X_test)\n",
    "\n",
    "        rmse = math.sqrt(mean_squared_error(y_test, y_pred))\n",
    "        mae = mean_absolute_error(y_test, y_pred)\n",
    "\n",
    "        print(\"RMSE :-\", rmse)\n",
    "        print(\"MAE :-\", mae)\n",
    "        return rmse, mae"
   ]
  },
  {
   "cell_type": "code",
   "execution_count": 9,
   "metadata": {},
   "outputs": [],
   "source": [
    "def best_param_val(dict, metric, param_name = \"Params\"):\n",
    "    min_value = min(dict.items(), key=lambda x: x[0])\n",
    "    print(\"Best \" + param_name +  \" having minimum \" + metric + \" {} is : {}\".format(min_value[0], min_value[1]))\n",
    "    dict.clear()\n",
    "    return min_value"
   ]
  },
  {
   "cell_type": "code",
   "execution_count": 10,
   "metadata": {},
   "outputs": [],
   "source": [
    "def timer(start_time=None):\n",
    "    from datetime import datetime\n",
    "    if not start_time:\n",
    "        start_time = datetime.now()\n",
    "        return start_time\n",
    "    elif start_time:\n",
    "        thour, temp_sec = divmod((datetime.now() - start_time).total_seconds(), 3600)\n",
    "        tmin, tsec = divmod(temp_sec, 60)\n",
    "        print('\\n Time taken: %i hours %i minutes and %s seconds.' % (thour, tmin, round(tsec, 2)))"
   ]
  },
  {
   "cell_type": "markdown",
   "metadata": {},
   "source": [
    "### Linear Regression"
   ]
  },
  {
   "cell_type": "markdown",
   "metadata": {},
   "source": [
    "***Predictions on Training Data***"
   ]
  },
  {
   "cell_type": "code",
   "execution_count": 10,
   "metadata": {},
   "outputs": [
    {
     "name": "stdout",
     "output_type": "stream",
     "text": [
      "RMSE :- 0.13438364411794562\n",
      "MAE :- 0.09493599874584878\n"
     ]
    }
   ],
   "source": [
    "lr = LinearRegression()\n",
    "rmse_lr, mae_lr = train_predict_accuracy(lr, X_train, y_train, X_train, y_train)"
   ]
  },
  {
   "cell_type": "markdown",
   "metadata": {},
   "source": [
    "***Predictions on Testing Data***"
   ]
  },
  {
   "cell_type": "code",
   "execution_count": 11,
   "metadata": {},
   "outputs": [
    {
     "name": "stdout",
     "output_type": "stream",
     "text": [
      "RMSE :- 0.3746130793250347\n",
      "MAE :- 0.3079999901815408\n"
     ]
    }
   ],
   "source": [
    "lr = LinearRegression()\n",
    "rmse_lr, mae_lr = train_predict_accuracy(lr, X_train, y_train, X_test, y_test)"
   ]
  },
  {
   "cell_type": "markdown",
   "metadata": {},
   "source": [
    "It can be seen that the model is easily Overfitting"
   ]
  },
  {
   "cell_type": "markdown",
   "metadata": {},
   "source": [
    "### Lasso Regression"
   ]
  },
  {
   "cell_type": "markdown",
   "metadata": {},
   "source": [
    "***Predictions on Training Data***"
   ]
  },
  {
   "cell_type": "code",
   "execution_count": 12,
   "metadata": {},
   "outputs": [
    {
     "name": "stdout",
     "output_type": "stream",
     "text": [
      "RMSE :- 0.39931504624370256\n",
      "MAE :- 0.3098117038974676\n"
     ]
    }
   ],
   "source": [
    "lasso = Lasso()\n",
    "rmse_lasso, mae_lasso = train_predict_accuracy(lasso, X_train, y_train, X_train, y_train)"
   ]
  },
  {
   "cell_type": "markdown",
   "metadata": {},
   "source": [
    "***Predictions on Testing Data***"
   ]
  },
  {
   "cell_type": "code",
   "execution_count": 13,
   "metadata": {},
   "outputs": [
    {
     "name": "stdout",
     "output_type": "stream",
     "text": [
      "RMSE :- 0.11282671270523145\n",
      "MAE :- 0.09109931787026766\n"
     ]
    }
   ],
   "source": [
    "lasso = Lasso()\n",
    "rmse_lasso, mae_lasso = train_predict_accuracy(lasso, X_train, y_train, X_test, y_test)"
   ]
  },
  {
   "cell_type": "markdown",
   "metadata": {},
   "source": [
    "***Tuning Lasso Regression***"
   ]
  },
  {
   "cell_type": "code",
   "execution_count": 14,
   "metadata": {},
   "outputs": [
    {
     "name": "stdout",
     "output_type": "stream",
     "text": [
      "At Alpha :- 1.0\n",
      "RMSE :- 0.11282671270523145\n",
      "MAE :- 0.09109931787026766\n",
      "\n",
      "At Alpha :- 0.5\n",
      "RMSE :- 0.11282671270523145\n",
      "MAE :- 0.09109931787026766\n",
      "\n",
      "At Alpha :- 0.05\n",
      "RMSE :- 0.1344996017206192\n",
      "MAE :- 0.10793005818959789\n",
      "\n",
      "At Alpha :- 0.005\n",
      "RMSE :- 0.2857683586807933\n",
      "MAE :- 0.2355463803661212\n",
      "\n",
      "At Alpha :- 0.0005\n",
      "RMSE :- 0.3649365313227914\n",
      "MAE :- 0.2996250568398266\n",
      "\n",
      "Best Alpha having minimum RMSE 0.11282671270523145 is : 0.5\n",
      "Best Alpha having minimum MAE 0.09109931787026766 is : 0.5\n"
     ]
    }
   ],
   "source": [
    "rmse_dict = {}\n",
    "mae_dict = {}\n",
    "alpha = [1.0, 0.5, 0.05, 0.005, 0.0005]\n",
    "for i in alpha:\n",
    "    lasso = Lasso(alpha=i)\n",
    "    print(\"At Alpha :-\", i)\n",
    "    rmse, mae = train_predict_accuracy(lasso, X_train, y_train, X_test, y_test)\n",
    "    print()\n",
    "    rmse_dict.update({rmse : i})\n",
    "    mae_dict.update({mae : i})\n",
    "\n",
    "rmse_lasso, rmse_lasso_param = best_param_val(rmse_dict, \"RMSE\", \"Alpha\")\n",
    "mae_lasso, mae_lasso_param = best_param_val(mae_dict, \"MAE\", \"Alpha\")"
   ]
  },
  {
   "cell_type": "markdown",
   "metadata": {},
   "source": [
    "### Ridge Regression"
   ]
  },
  {
   "cell_type": "markdown",
   "metadata": {},
   "source": [
    "***Predictions on Training Data***"
   ]
  },
  {
   "cell_type": "code",
   "execution_count": 15,
   "metadata": {},
   "outputs": [
    {
     "name": "stdout",
     "output_type": "stream",
     "text": [
      "RMSE :- 0.13462694878722886\n",
      "MAE :- 0.09514558219652842\n"
     ]
    }
   ],
   "source": [
    "ridge = Ridge()\n",
    "rmse_ridge, mae_ridge = train_predict_accuracy(ridge, X_train, y_train, X_train, y_train)"
   ]
  },
  {
   "cell_type": "markdown",
   "metadata": {},
   "source": [
    "***Predictions on Testing Data***"
   ]
  },
  {
   "cell_type": "code",
   "execution_count": 16,
   "metadata": {},
   "outputs": [
    {
     "name": "stdout",
     "output_type": "stream",
     "text": [
      "RMSE :- 0.37066466832487743\n",
      "MAE :- 0.3052896971113192\n"
     ]
    }
   ],
   "source": [
    "ridge = Ridge()\n",
    "rmse_ridge, mae_ridge = train_predict_accuracy(ridge, X_train, y_train, X_test, y_test)"
   ]
  },
  {
   "cell_type": "markdown",
   "metadata": {},
   "source": [
    "***Tuning Ridge Regression***"
   ]
  },
  {
   "cell_type": "code",
   "execution_count": 17,
   "metadata": {},
   "outputs": [
    {
     "name": "stdout",
     "output_type": "stream",
     "text": [
      "At Alpha  1.0\n",
      "RMSE :- 0.37066466832487743\n",
      "MAE :- 0.3052896971113192\n",
      "\n",
      "At Alpha  0.5\n",
      "RMSE :- 0.3725963095287079\n",
      "MAE :- 0.30663008201594466\n",
      "\n",
      "At Alpha  0.05\n",
      "RMSE :- 0.3744074349309213\n",
      "MAE :- 0.3078604966343594\n",
      "\n",
      "At Alpha  0.005\n",
      "RMSE :- 0.3745924744431633\n",
      "MAE :- 0.30798600299000517\n",
      "\n",
      "At Alpha  0.0005\n",
      "RMSE :- 0.37461101843161604\n",
      "MAE :- 0.3079985915524902\n",
      "\n",
      "Best Alpha having minimum RMSE 0.37066466832487743 is : 1.0\n",
      "Best Alpha having minimum MAE 0.3052896971113192 is : 1.0\n"
     ]
    }
   ],
   "source": [
    "rmse_dict = {}\n",
    "mae_dict = {}\n",
    "alpha = [1.0, 0.5, 0.05, 0.005, 0.0005]\n",
    "for i in alpha:\n",
    "    ridge = Ridge(alpha=i)\n",
    "    print(\"At Alpha \", i)\n",
    "    rmse, mae = train_predict_accuracy(ridge, X_train, y_train, X_test, y_test)\n",
    "    print()\n",
    "    \n",
    "    rmse_dict.update({rmse : i})\n",
    "    mae_dict.update({mae : i})\n",
    "\n",
    "rmse_ridge, rmse_ridge_param = best_param_val(rmse_dict, \"RMSE\", \"Alpha\")\n",
    "mae_ridge, mae_ridge_param = best_param_val(mae_dict, \"MAE\", \"Alpha\")"
   ]
  },
  {
   "cell_type": "markdown",
   "metadata": {},
   "source": [
    "### Stochastic Gradient Descent"
   ]
  },
  {
   "cell_type": "markdown",
   "metadata": {},
   "source": [
    "***Predictions on Training Data***"
   ]
  },
  {
   "cell_type": "code",
   "execution_count": 18,
   "metadata": {},
   "outputs": [
    {
     "name": "stdout",
     "output_type": "stream",
     "text": [
      "RMSE :- 0.4010762028596968\n",
      "MAE :- 0.2995074895433472\n"
     ]
    }
   ],
   "source": [
    "sgd = SGDRegressor()\n",
    "rmse_sgd, mae_sgd = train_predict_accuracy(sgd, X_train, y_train.values.ravel(), X_train, y_train.values.ravel())"
   ]
  },
  {
   "cell_type": "markdown",
   "metadata": {},
   "source": [
    "***Predictions on Testing Data***"
   ]
  },
  {
   "cell_type": "code",
   "execution_count": 19,
   "metadata": {},
   "outputs": [
    {
     "name": "stdout",
     "output_type": "stream",
     "text": [
      "RMSE :- 1.1074175501668166\n",
      "MAE :- 0.9668898448482767\n"
     ]
    }
   ],
   "source": [
    "sgd = SGDRegressor()\n",
    "rmse_sgd, mae_sgd = train_predict_accuracy(sgd, X_train, y_train.values.ravel(), X_test, y_test.values.ravel())"
   ]
  },
  {
   "cell_type": "markdown",
   "metadata": {},
   "source": [
    "***Tuning SGD Regressor***"
   ]
  },
  {
   "cell_type": "code",
   "execution_count": 20,
   "metadata": {},
   "outputs": [
    {
     "name": "stdout",
     "output_type": "stream",
     "text": [
      "At Penalty l2 & Alpha 1.0\n",
      "RMSE :- 0.2452842978098857\n",
      "MAE :- 0.2180731511857376\n",
      "\n",
      "At Penalty l2 & Alpha 0.5\n",
      "RMSE :- 0.36566303317663823\n",
      "MAE :- 0.32202427076209394\n",
      "\n",
      "At Penalty l2 & Alpha 0.05\n",
      "RMSE :- 0.7297188683591663\n",
      "MAE :- 0.6388278671267964\n",
      "\n",
      "At Penalty l2 & Alpha 0.005\n",
      "RMSE :- 1.0291838273820937\n",
      "MAE :- 0.8984432261044905\n",
      "\n",
      "At Penalty l2 & Alpha 0.0005\n",
      "RMSE :- 1.0850061105624293\n",
      "MAE :- 0.9454400014868861\n",
      "\n",
      "At Penalty l1 & Alpha 1.0\n",
      "RMSE :- 0.11376477786899236\n",
      "MAE :- 0.09196478934251716\n",
      "\n",
      "At Penalty l1 & Alpha 0.5\n",
      "RMSE :- 0.11310497445954742\n",
      "MAE :- 0.09135603584943182\n",
      "\n",
      "At Penalty l1 & Alpha 0.05\n",
      "RMSE :- 0.7493727073842732\n",
      "MAE :- 0.6745639160801097\n",
      "\n",
      "At Penalty l1 & Alpha 0.005\n",
      "RMSE :- 1.0280658824881286\n",
      "MAE :- 0.8995563621680943\n",
      "\n",
      "At Penalty l1 & Alpha 0.0005\n",
      "RMSE :- 1.1014307478300118\n",
      "MAE :- 0.9614576571314518\n",
      "\n",
      "At Penalty elasticnet & Alpha 1.0\n",
      "RMSE :- 0.11827318452231729\n",
      "MAE :- 0.0961737562590767\n",
      "\n",
      "At Penalty elasticnet & Alpha 0.5\n",
      "RMSE :- 0.29770706756778553\n",
      "MAE :- 0.27454834262052336\n",
      "\n",
      "At Penalty elasticnet & Alpha 0.05\n",
      "RMSE :- 0.7576921875836773\n",
      "MAE :- 0.6699472742601927\n",
      "\n",
      "At Penalty elasticnet & Alpha 0.005\n",
      "RMSE :- 1.0320315601074865\n",
      "MAE :- 0.902779075816722\n",
      "\n",
      "At Penalty elasticnet & Alpha 0.0005\n",
      "RMSE :- 1.0946617100299374\n",
      "MAE :- 0.954269298031349\n",
      "\n"
     ]
    }
   ],
   "source": [
    "rmse_dict = {}\n",
    "mae_dict = {}\n",
    "alpha = [1.0, 0.5, 0.05, 0.005, 0.0005]\n",
    "penalty = ['l2', 'l1', 'elasticnet']\n",
    "for j in penalty:\n",
    "    for i in alpha:\n",
    "        sgd = SGDRegressor(penalty=j, alpha=i)\n",
    "        print(\"At Penalty {} & Alpha {}\".format(j, i))\n",
    "        rmse, mae = train_predict_accuracy(sgd, X_train, y_train.values.ravel(), X_test, y_test.values.ravel())\n",
    "        print()\n",
    "        \n",
    "        rmse_dict.update({rmse : [i, j]})\n",
    "        mae_dict.update({mae : [i, j]})"
   ]
  },
  {
   "cell_type": "code",
   "execution_count": 21,
   "metadata": {},
   "outputs": [
    {
     "name": "stdout",
     "output_type": "stream",
     "text": [
      "Best Alpha having minimum RMSE 0.11310497445954742 is : [0.5, 'l1']\n",
      "Best Alpha having minimum MAE 0.09135603584943182 is : [0.5, 'l1']\n"
     ]
    }
   ],
   "source": [
    "rmse_sgd, rmse_sgd_param = best_param_val(rmse_dict, \"RMSE\", \"Alpha\")\n",
    "mae_sgd, mae_sgd_param = best_param_val(mae_dict, \"MAE\", \"Alpha\")"
   ]
  },
  {
   "cell_type": "markdown",
   "metadata": {},
   "source": [
    "### Random Forest"
   ]
  },
  {
   "cell_type": "markdown",
   "metadata": {},
   "source": [
    "***Predictions on Training Data***"
   ]
  },
  {
   "cell_type": "code",
   "execution_count": 22,
   "metadata": {},
   "outputs": [
    {
     "data": {
      "text/plain": [
       "'RMSE :- 0.05345378900074049, MAE :- 0.03694285201694259'"
      ]
     },
     "execution_count": 22,
     "metadata": {},
     "output_type": "execute_result"
    }
   ],
   "source": [
    "\"\"\"RMSE :- 0.05345378900074049, MAE :- 0.03694285201694259\"\"\"\n",
    "\n",
    "# rfr = RandomForestRegressor(criterion=\"mae\")\n",
    "# train_predict_accuracy(rfr, X_train, y_train.values.ravel(), X_train, y_train.values.ravel())"
   ]
  },
  {
   "cell_type": "markdown",
   "metadata": {},
   "source": [
    "***Predictions on Testing Data***"
   ]
  },
  {
   "cell_type": "code",
   "execution_count": 23,
   "metadata": {},
   "outputs": [
    {
     "data": {
      "text/plain": [
       "'RMSE :- 0.3516339358649479, MAE :- 0.28761432504105483'"
      ]
     },
     "execution_count": 23,
     "metadata": {},
     "output_type": "execute_result"
    }
   ],
   "source": [
    "\"\"\"RMSE :- 0.3516339358649479, MAE :- 0.28761432504105483\"\"\"\n",
    "\n",
    "# rfr = RandomForestRegressor(criterion=\"mae\")\n",
    "# train_predict_accuracy(rfr, X_train, y_train.values.ravel(), X_test, y_test.values.ravel())"
   ]
  },
  {
   "cell_type": "markdown",
   "metadata": {},
   "source": [
    "**Hyperparameter Tuning using Grid Search CV :-**"
   ]
  },
  {
   "cell_type": "code",
   "execution_count": 24,
   "metadata": {},
   "outputs": [],
   "source": [
    "# params = {\"n_estimators\": [50, 100, 150], \"max_depth\": [None], \"max_features\": [\"auto\"]} -> \n",
    "# Selected - {'max_depth': None, 'max_features': 'auto', 'n_estimators': 150}\n",
    "# Using Cross-Val-Score array([0.89661721, 0.87875229, 0.88123017, 0.89390206, 0.87705776])\n",
    "# RMSE - 0.34451560966332684, MAE - 0.2838325008760729\n",
    "\n",
    "# |--|--|--|--|--|--|--|--|--|--|--|--|--|--|--|--|--|--|--|--|--|--|--|--|--|--|--|--|--|--|--|--|--|--|--|--|--|--|--|--|\n",
    "\n",
    "# params = {\"n_estimators\": [150, 200, 250]}\n",
    "# Selected - n_estimators = 250\n",
    "# RMSE :- 0.3491806560761994, MAE :- 0.2872283547815526\n",
    "\n",
    "# |--|--|--|--|--|--|--|--|--|--|--|--|--|--|--|--|--|--|--|--|--|--|--|--|--|--|--|--|--|--|--|--|--|--|--|--|--|--|--|--|\n",
    "\n",
    "# params = {\"n_estimators\": [250, 300, 350, 400, 500]}\n",
    "# Selected - n_estimators = 500\n",
    "# RMSE :- 0.34615275329928336, MAE :- 0.2842855851152362\n",
    "\n",
    "# X--X--X--X--X--X--X--X--X--X--X--X--X--X--X--X--X--X--X--X--X--X--X--X--X--X--X--X--X--X--X--X--X--X--X--X--X--X--X--X--X--X\n",
    "\n",
    "# params = {\"n_estimators\": [250, 300, 350, 400, 500]}\n",
    "# rfr = RandomForestRegressor(criterion='mae')\n",
    "# rfr_gscv = GridSearchCV(rfr, param_grid=params)\n",
    "# rmse, mae, rfr_gscv = train_predict_accuracy(rfr_gscv, X_train, y_train.values.ravel(), X_test, y_test.values.ravel())\n",
    "# print(rfr_gscv.best_params_)"
   ]
  },
  {
   "cell_type": "markdown",
   "metadata": {},
   "source": [
    "***Finding best n_estimator for Random Forest***\n",
    "> As we can see from above commented code that here only n_estimator param is having affect on output. Whereas when I tried many different-different combinations of Params using Grid Search CV only n_estimator was changing nothing else. So, now I am runing a for loop on different-different n_estimator values. Then will select the best one."
   ]
  },
  {
   "cell_type": "code",
   "execution_count": 25,
   "metadata": {},
   "outputs": [
    {
     "name": "stdout",
     "output_type": "stream",
     "text": [
      "n_estimator - 100\n",
      "RMSE :- 0.34985226846320977\n",
      "MAE :- 0.2871055406265186\n",
      "\n",
      "n_estimator - 200\n",
      "RMSE :- 0.3465685367059785\n",
      "MAE :- 0.285583165402356\n",
      "\n",
      "n_estimator - 300\n",
      "RMSE :- 0.35031843506336136\n",
      "MAE :- 0.2886256432829973\n",
      "\n",
      "n_estimator - 400\n",
      "RMSE :- 0.34865835895349545\n",
      "MAE :- 0.28725618690552884\n",
      "\n",
      "n_estimator - 500\n",
      "RMSE :- 0.34880125250127286\n",
      "MAE :- 0.2872856384003092\n",
      "\n",
      "n_estimator - 600\n",
      "RMSE :- 0.3478384687934967\n",
      "MAE :- 0.28652177311331256\n",
      "\n",
      "n_estimator - 700\n",
      "RMSE :- 0.34997591938897976\n",
      "MAE :- 0.2884455509576732\n",
      "\n",
      "n_estimator - 800\n",
      "RMSE :- 0.3478326468917928\n",
      "MAE :- 0.28665941296938374\n",
      "\n",
      "n_estimator - 900\n",
      "RMSE :- 0.3484163391050363\n",
      "MAE :- 0.2867316593011559\n",
      "\n",
      "n_estimator - 1000\n",
      "RMSE :- 0.349723443649285\n",
      "MAE :- 0.28789204345936675\n",
      "\n"
     ]
    }
   ],
   "source": [
    "mae_list = []\n",
    "n_estimators_list = [100, 150, 200, 250, 300, 350, 400, 450, 500]\n",
    "for i in n_estimators_list:\n",
    "    print(\"n_estimator -\", i)\n",
    "    rfr = RandomForestRegressor(n_estimators=i, criterion=\"mae\")\n",
    "    rmse, mae = train_predict_accuracy(rfr, X_train, y_train.values.ravel(), X_test, y_test.values.ravel())\n",
    "    print()\n",
    "    \n",
    "    mae_list.append(mae)"
   ]
  },
  {
   "cell_type": "markdown",
   "metadata": {},
   "source": []
  },
  {
   "cell_type": "code",
   "execution_count": 26,
   "metadata": {},
   "outputs": [
    {
     "data": {
      "image/png": "[encoded data removed]",
      "text/plain": [
       "<Figure size 432x432 with 1 Axes>"
      ]
     },
     "metadata": {
      "needs_background": "light"
     },
     "output_type": "display_data"
    }
   ],
   "source": [
    "plt.plot(n_estimators_list, mae_list, color=\"red\", marker=\"o\")\n",
    "plt.xticks(n_estimators_list)\n",
    "plt.show()"
   ]
  },
  {
   "cell_type": "markdown",
   "metadata": {},
   "source": []
  },
  {
   "cell_type": "code",
   "execution_count": 43,
   "metadata": {},
   "outputs": [
    {
     "name": "stdout",
     "output_type": "stream",
     "text": [
      "RMSE :- 0.3505235555468513\n",
      "MAE :- 0.2877933988952408\n"
     ]
    }
   ],
   "source": [
    "rfr_param = n_estimators_list[mae_list.index(min(mae_list))]\n",
    "print(\"At n_estimator :-\", rfr_param)\n",
    "rfr = RandomForestRegressor(n_estimators=rfr_param, criterion=\"mae\")\n",
    "rmse_rfr, mae_rfr = train_predict_accuracy(rfr, X_train, y_train.values.ravel(), X_test, y_test.values.ravel())"
   ]
  },
  {
   "cell_type": "markdown",
   "metadata": {},
   "source": []
  },
  {
   "cell_type": "markdown",
   "metadata": {},
   "source": [
    "### XGBoost"
   ]
  },
  {
   "cell_type": "markdown",
   "metadata": {},
   "source": [
    "***Predictions on Training Data***"
   ]
  },
  {
   "cell_type": "code",
   "execution_count": 28,
   "metadata": {},
   "outputs": [
    {
     "data": {
      "text/plain": [
       "'RMSE :- 0.02338975739066758, MAE :- 0.01702154320126216'"
      ]
     },
     "execution_count": 28,
     "metadata": {},
     "output_type": "execute_result"
    }
   ],
   "source": [
    "\"\"\"RMSE :- 0.02338975739066758, MAE :- 0.01702154320126216\"\"\"\n",
    "\n",
    "# xgb = xgboost.XGBRegressor()\n",
    "# train_predict_accuracy(xgb, X_train, y_train.values.ravel(), X_train, y_train.values.ravel())"
   ]
  },
  {
   "cell_type": "markdown",
   "metadata": {},
   "source": [
    "***Predictions on Testing Data***"
   ]
  },
  {
   "cell_type": "code",
   "execution_count": 29,
   "metadata": {},
   "outputs": [
    {
     "data": {
      "text/plain": [
       "'RMSE :- 0.3516339358649479, MAE :- 0.28761432504105483'"
      ]
     },
     "execution_count": 29,
     "metadata": {},
     "output_type": "execute_result"
    }
   ],
   "source": [
    "\"\"\"RMSE :- 0.3516339358649479, MAE :- 0.28761432504105483\"\"\"\n",
    "\n",
    "# xgb = xgboost.XGBRegressor()\n",
    "# train_predict_accuracy(xgb, X_train, y_train.values.ravel(), X_test, y_test.values.ravel())"
   ]
  },
  {
   "cell_type": "markdown",
   "metadata": {},
   "source": [
    "**Hyperparameter Tuning using Grid Search CV :-**"
   ]
  },
  {
   "cell_type": "code",
   "execution_count": 30,
   "metadata": {},
   "outputs": [],
   "source": [
    "# params={\"learning_rate\":[0.20, 0.25, 0.30, 0.35, 0.40],\"max_depth\":[2, 4, 6, 8, 10],\"min_child_weight\":[ 1, 3, 5],\"gamma\":[ 0.0, 0.1, 0.2],\"colsample_bytree\":[0.0, 0.3, 0.7, 1]}\n",
    "# Selected - {'colsample_bytree': 0.3, 'gamma': 0.0, 'learning_rate': 0.2, 'max_depth': 4, 'min_child_weight': 3}\n",
    "# RMSE :- 0.3387788698156826, MAE :- 0.2818891847841473\n",
    "\n",
    "# X--X--X--X--X--X--X--X--X--X--X--X--X--X--X--X--X--X--X--X--X--X--X--X--X--X--X--X--X--X--X--X--X--X--X--X--X--X--X--X--X--X\n",
    "\n",
    "# params={\n",
    "#  \"learning_rate\"    : [0.20, 0.25, 0.30, 0.35, 0.40],\n",
    "#  \"max_depth\"        : [2, 4, 6, 8, 10],\n",
    "#  \"min_child_weight\" : [1, 3, 5],\n",
    "#  \"gamma\"            : [0.0, 0.1, 0.2],\n",
    "#  \"colsample_bytree\" : [0.0, 0.3, 0.7, 1]}  # can be set b/w 0 & 1.\n",
    "# xgb = xgboost.XGBRegressor()\n",
    "# xgb_gscv = GridSearchCV(xgb, param_grid=params)\n",
    "# rmse, mae, xgb_gscv = train_predict_accuracy(xgb_gscv, X_train, y_train.values.ravel(), X_test, y_test.values.ravel(), want_fit=\"Yes\")\n",
    "# print(xgb_gscv.best_params_)"
   ]
  },
  {
   "cell_type": "markdown",
   "metadata": {},
   "source": [
    "***Training Model with Best Parameters***"
   ]
  },
  {
   "cell_type": "code",
   "execution_count": 44,
   "metadata": {},
   "outputs": [
    {
     "name": "stdout",
     "output_type": "stream",
     "text": [
      "RMSE :- 0.3387788698156826\n",
      "MAE :- 0.2818891847841473\n"
     ]
    }
   ],
   "source": [
    "xgb_params = \"colsample_bytree=0.3, gamma=0.0, learning_rate=0.2, max_depth=4, min_child_weight=3\"\n",
    "xgb = xgboost.XGBRegressor(colsample_bytree=0.3, gamma=0.0, learning_rate=0.2, max_depth=4, min_child_weight=3)\n",
    "rmse_xgb, mae_xgb = train_predict_accuracy(xgb, X_train, y_train.values.ravel(), X_test, y_test.values.ravel())"
   ]
  },
  {
   "cell_type": "markdown",
   "metadata": {},
   "source": []
  },
  {
   "cell_type": "markdown",
   "metadata": {},
   "source": [
    "**X--X--X--X--X--X--X--X--X--X--X--X--X--X--X--X--X--X--X--X--X--X--X--X--X--X--X--X--X--X--X--X--X--X--X--X--X--X--X--X--X--X--X--X--X--X--X--X--X--X--X--X--X**"
   ]
  },
  {
   "cell_type": "markdown",
   "metadata": {},
   "source": [
    "### Pretty Table"
   ]
  },
  {
   "cell_type": "code",
   "execution_count": 48,
   "metadata": {},
   "outputs": [
    {
     "name": "stdout",
     "output_type": "stream",
     "text": [
      "+-----------------------------+---------------------+---------------------+\n",
      "|            Model            |         RMSE        |         MAE         |\n",
      "+-----------------------------+---------------------+---------------------+\n",
      "|      Linear Regression      |  0.3746130793250347 |  0.3079999901815408 |\n",
      "|       ---------------       |   ---------------   |   ---------------   |\n",
      "|       Lasso Regression      | 0.11282671270523145 | 0.09109931787026766 |\n",
      "|       ---------------       |   ---------------   |   ---------------   |\n",
      "|       Ridge Regression      | 0.37066466832487743 |  0.3052896971113192 |\n",
      "|       ---------------       |   ---------------   |   ---------------   |\n",
      "| Stochastic Gradient Descent | 0.11310497445954742 | 0.09135603584943182 |\n",
      "|       ---------------       |   ---------------   |   ---------------   |\n",
      "|        Random Forest        |  0.3505235555468513 |  0.2877933988952408 |\n",
      "|       ---------------       |   ---------------   |   ---------------   |\n",
      "|           XGBoost           |  0.3387788698156826 |  0.2818891847841473 |\n",
      "+-----------------------------+---------------------+---------------------+\n"
     ]
    }
   ],
   "source": [
    "x = PrettyTable()\n",
    "x.field_names = [\"Model\", \"RMSE\", \"MAE\"]\n",
    "x.add_row([\"Linear Regression\", rmse_lr, mae_lr])\n",
    "x.add_row([\"---------------\", \"---------------\", \"---------------\"])\n",
    "x.add_row([\"Lasso Regression\", rmse_lasso, mae_lasso])\n",
    "x.add_row([\"---------------\", \"---------------\", \"---------------\"])\n",
    "x.add_row([\"Ridge Regression\", rmse_ridge, mae_ridge])\n",
    "x.add_row([\"---------------\", \"---------------\", \"---------------\"])\n",
    "x.add_row([\"Stochastic Gradient Descent\", rmse_sgd, mae_sgd])\n",
    "x.add_row([\"---------------\", \"---------------\", \"---------------\"])\n",
    "x.add_row([\"Random Forest\", rmse_rfr, mae_rfr])\n",
    "x.add_row([\"---------------\", \"---------------\", \"---------------\"])\n",
    "x.add_row([\"XGBoost\", rmse_xgb, mae_xgb])\n",
    "print(x)"
   ]
  },
  {
   "cell_type": "code",
   "execution_count": null,
   "metadata": {},
   "outputs": [],
   "source": []
  }
 ],
 "metadata": {
  "kernelspec": {
   "display_name": "Python 3",
   "language": "python",
   "name": "python3"
  },
  "language_info": {
   "codemirror_mode": {
    "name": "ipython",
    "version": 3
   },
   "file_extension": ".py",
   "mimetype": "text/x-python",
   "name": "python",
   "nbconvert_exporter": "python",
   "pygments_lexer": "ipython3",
   "version": "3.7.6"
  }
 },
 "nbformat": 4,
 "nbformat_minor": 4
}
